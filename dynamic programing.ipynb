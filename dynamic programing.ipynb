{
 "cells": [
  {
   "cell_type": "code",
   "execution_count": 113,
   "metadata": {
    "collapsed": true
   },
   "outputs": [],
   "source": [
    "# source and references\n",
    "# 1:https://www.youtube.com/watch?v=oBt53YbR9Kk&t=3027s"
   ]
  },
  {
   "cell_type": "markdown",
   "metadata": {},
   "source": [
    "# Dynamic Programming"
   ]
  },
  {
   "cell_type": "markdown",
   "metadata": {},
   "source": [
    "#  1. Memoization"
   ]
  },
  {
   "cell_type": "code",
   "execution_count": 14,
   "metadata": {
    "collapsed": true
   },
   "outputs": [],
   "source": [
    "def fib(n, memo = {}):\n",
    "    if n in memo:\n",
    "        return memo[n]\n",
    "    if n <= 2:\n",
    "        return 1\n",
    "    memo[n] = fib(n - 1, memo) + fib(n-2, memo)\n",
    "    return memo[n]\n",
    "    "
   ]
  },
  {
   "cell_type": "code",
   "execution_count": 16,
   "metadata": {},
   "outputs": [
    {
     "data": {
      "text/plain": [
       "12586269025"
      ]
     },
     "execution_count": 16,
     "metadata": {},
     "output_type": "execute_result"
    }
   ],
   "source": [
    "fib(50)"
   ]
  },
  {
   "cell_type": "code",
   "execution_count": 21,
   "metadata": {
    "collapsed": true
   },
   "outputs": [],
   "source": [
    "'''\n",
    "number of way to travel from top left to bottom right\n",
    "only can go down and go right.\n",
    "\n",
    "'''\n",
    "\n",
    "def grid_traveller(m, n):\n",
    "    if m == 1 and n == 1:\n",
    "        return 1\n",
    "    if m == 0 or n == 0:\n",
    "        return 0\n",
    "    return grid_traveller(m-1, n) + grid_traveller(m, n-1)"
   ]
  },
  {
   "cell_type": "code",
   "execution_count": 23,
   "metadata": {},
   "outputs": [
    {
     "data": {
      "text/plain": [
       "2"
      ]
     },
     "execution_count": 23,
     "metadata": {},
     "output_type": "execute_result"
    }
   ],
   "source": [
    "grid_traveller(2, 2)"
   ]
  },
  {
   "cell_type": "code",
   "execution_count": 29,
   "metadata": {
    "collapsed": true
   },
   "outputs": [],
   "source": [
    "def grid_traveller_with_memo(m, n, memo = {}):\n",
    "    key = (m, n)\n",
    "    if key in memo:\n",
    "        return memo[key]\n",
    "    if m == 1 and n == 1:\n",
    "        return 1\n",
    "    if m == 0 or n == 0:\n",
    "        return 0\n",
    "    \n",
    "    memo[key] = grid_traveller_with_memo(m - 1, n, memo) + grid_traveller_with_memo(m, n - 1, memo)\n",
    "    return memo[key]"
   ]
  },
  {
   "cell_type": "code",
   "execution_count": 31,
   "metadata": {},
   "outputs": [
    {
     "data": {
      "text/plain": [
       "2333606220"
      ]
     },
     "execution_count": 31,
     "metadata": {},
     "output_type": "execute_result"
    }
   ],
   "source": [
    "grid_traveller_with_memo(18,18)"
   ]
  },
  {
   "cell_type": "markdown",
   "metadata": {},
   "source": [
    "memoization.\n",
    "there are 2 big steps:\n",
    "step 1: make it work first, even it is slow:\n",
    "1. visualize the problem as a tree\n",
    "2. implement the tree using recursion\n",
    "3. test the function\n",
    "\n",
    "step 2: make it efficient a\n",
    "1. add a memo object, for instance, a python dictionary\n",
    "2. add a base case to return memo values\n",
    "3. store return values into the memo\n"
   ]
  },
  {
   "cell_type": "code",
   "execution_count": 32,
   "metadata": {
    "collapsed": true
   },
   "outputs": [],
   "source": [
    "'''\n",
    "given a target sum and an array of numbers\n",
    "return whether there is a combination of numbers that\n",
    "can make up the target sum\n",
    "'''\n",
    "\n",
    "def can_sum(target_sum, numbers):\n",
    "    if target_sum == 0:\n",
    "        return True\n",
    "    if target_sum < 0:\n",
    "        return False\n",
    "    for num in numbers:\n",
    "        remain = target_sum - num\n",
    "        if can_sum(remain, numbers):\n",
    "            return True\n",
    "    \n",
    "    return False\n"
   ]
  },
  {
   "cell_type": "code",
   "execution_count": 37,
   "metadata": {},
   "outputs": [
    {
     "name": "stdout",
     "output_type": "stream",
     "text": [
      "False\n",
      "True\n"
     ]
    }
   ],
   "source": [
    "print(can_sum(9, [2]))\n",
    "print(can_sum(7, [3,4]))"
   ]
  },
  {
   "cell_type": "code",
   "execution_count": 51,
   "metadata": {
    "collapsed": true
   },
   "outputs": [],
   "source": [
    "def can_sum_with_memo(target_sum, numbers, memo = {}):\n",
    "    if target_sum in memo:\n",
    "        return memo[target_sum]\n",
    "    if target_sum == 0:\n",
    "        return True\n",
    "    if target_sum < 0:\n",
    "        return False\n",
    "    for num in numbers:\n",
    "        remain = target_sum - num\n",
    "        if can_sum_with_memo(remain, numbers, memo):\n",
    "            memo[target_sum] = True\n",
    "            return True\n",
    "    memo[target_sum] =  False\n",
    "    return False"
   ]
  },
  {
   "cell_type": "code",
   "execution_count": 58,
   "metadata": {},
   "outputs": [
    {
     "data": {
      "text/plain": [
       "False"
      ]
     },
     "execution_count": 58,
     "metadata": {},
     "output_type": "execute_result"
    }
   ],
   "source": [
    "can_sum_with_memo(300, [7, 14], memo = {})"
   ]
  },
  {
   "cell_type": "code",
   "execution_count": 102,
   "metadata": {
    "collapsed": true
   },
   "outputs": [],
   "source": [
    "'''\n",
    "return the array of numbers that make up target_sum\n",
    "\n",
    "'''\n",
    "def how_sum(target_sum, numbers):\n",
    "    if target_sum == 0:\n",
    "        return []\n",
    "    if target_sum < 0:\n",
    "        return None\n",
    "    for num in numbers:\n",
    "        remainder = target_sum - num\n",
    "        remainder_result = how_sum(remainder, numbers)\n",
    "        \n",
    "        if remainder_result != None:\n",
    "            new_array = remainder_result + [num]\n",
    "            return new_array\n",
    "    return None"
   ]
  },
  {
   "cell_type": "code",
   "execution_count": 103,
   "metadata": {},
   "outputs": [
    {
     "name": "stdout",
     "output_type": "stream",
     "text": [
      "[3, 2, 2]\n",
      "None\n",
      "[2, 2, 2, 2]\n"
     ]
    }
   ],
   "source": [
    "print(how_sum(7,[2,3]))\n",
    "print(how_sum(7,[2,4]))\n",
    "print(how_sum(8, [2,3,5]))"
   ]
  },
  {
   "cell_type": "code",
   "execution_count": 108,
   "metadata": {
    "collapsed": true
   },
   "outputs": [],
   "source": [
    "'''\n",
    "let m be the target sum\n",
    "n be numbers length\n",
    "time:O(n*m * m)\n",
    "space: O(m)\n",
    "\n",
    "''';"
   ]
  },
  {
   "cell_type": "code",
   "execution_count": 109,
   "metadata": {
    "collapsed": true
   },
   "outputs": [],
   "source": [
    "'''\n",
    "time: O(n*m^2)\n",
    "space: O(m)\n",
    "'''\n",
    "\n",
    "def how_sum_memo(target_sum, numbers, memo):\n",
    "    if target_sum in memo:\n",
    "        return memo[target_sum]\n",
    "    if target_sum == 0:\n",
    "        return []\n",
    "    if target_sum < 0:\n",
    "        return None\n",
    "    for num in numbers:\n",
    "        remainder = target_sum - num\n",
    "        remainder_result = how_sum_memo(remainder, numbers, memo)\n",
    "        \n",
    "        if remainder_result != None:\n",
    "            new_array = remainder_result + [num]\n",
    "            memo[target_sum] = new_array\n",
    "            return memo[target_sum]\n",
    "        \n",
    "    memo[target_sum] = None\n",
    "    return None"
   ]
  },
  {
   "cell_type": "code",
   "execution_count": 110,
   "metadata": {},
   "outputs": [
    {
     "name": "stdout",
     "output_type": "stream",
     "text": [
      "None\n"
     ]
    }
   ],
   "source": [
    "print(how_sum_memo(300, [7, 14], memo = {}))"
   ]
  },
  {
   "cell_type": "code",
   "execution_count": 162,
   "metadata": {
    "collapsed": true
   },
   "outputs": [],
   "source": [
    "'''\n",
    "return the shortest combination of numbers that\n",
    "make up the target sum\n",
    "'''\n",
    "def best_sum(target_sum, numbers):\n",
    "    if target_sum == 0:\n",
    "        return []\n",
    "    if target_sum < 0:\n",
    "        return None\n",
    "    \n",
    "    shortest = None\n",
    "    for num in numbers:\n",
    "        remainder = target_sum - num\n",
    "        remainder_combination = best_sum(remainder, numbers)\n",
    "        if remainder_combination != None:\n",
    "            combination = remainder_combination + [num]\n",
    "            if shortest == None or len(combination) < len(shortest):\n",
    "                shortest = combination\n",
    "    \n",
    "    return shortest"
   ]
  },
  {
   "cell_type": "code",
   "execution_count": 163,
   "metadata": {},
   "outputs": [
    {
     "name": "stdout",
     "output_type": "stream",
     "text": [
      "[5, 3]\n",
      "[8]\n",
      "[4, 4]\n",
      "None\n"
     ]
    }
   ],
   "source": [
    "print(best_sum(8, [2,3,5]))\n",
    "print(best_sum(8, [8,4,5]))\n",
    "print(best_sum(8, [1,4,5]))\n",
    "print(best_sum(7, [5,3]))"
   ]
  },
  {
   "cell_type": "code",
   "execution_count": 164,
   "metadata": {
    "collapsed": true
   },
   "outputs": [],
   "source": [
    "# runtime: similar to how_sum()"
   ]
  },
  {
   "cell_type": "code",
   "execution_count": 169,
   "metadata": {
    "collapsed": true
   },
   "outputs": [],
   "source": [
    "def best_sum_memo(target_sum, numbers, memo = {}):\n",
    "    if target_sum in memo:\n",
    "        return memo[target_sum]\n",
    "    if target_sum == 0:\n",
    "        return []\n",
    "    if target_sum < 0:\n",
    "        return None\n",
    "\n",
    "    shortest = None\n",
    "    for num in numbers:\n",
    "        remainder = target_sum - num\n",
    "        remainder_combination = best_sum_memo(remainder, numbers, memo)\n",
    "        if remainder_combination != None:\n",
    "            combination = remainder_combination + [num]\n",
    "            if shortest == None or len(combination) < len(shortest):\n",
    "                shortest = combination\n",
    "    memo[target_sum] = shortest\n",
    "    return shortest"
   ]
  },
  {
   "cell_type": "code",
   "execution_count": 172,
   "metadata": {},
   "outputs": [
    {
     "data": {
      "text/plain": [
       "[25, 25, 25, 25]"
      ]
     },
     "execution_count": 172,
     "metadata": {},
     "output_type": "execute_result"
    }
   ],
   "source": [
    "best_sum_memo(100, [2,3,5, 25], {})"
   ]
  },
  {
   "cell_type": "code",
   "execution_count": 173,
   "metadata": {
    "collapsed": true
   },
   "outputs": [],
   "source": [
    "'''\n",
    "can_sum : can you do it? yes or no\n",
    "-> decision problem\n",
    "\n",
    "how_sum: how will you do it\n",
    "-> combinatoric problem\n",
    "\n",
    "best_sum: what is the best way to do it\n",
    "-> optimization problem\n",
    "\n",
    "''';"
   ]
  },
  {
   "cell_type": "code",
   "execution_count": 215,
   "metadata": {
    "collapsed": true
   },
   "outputs": [],
   "source": [
    "'''\n",
    "given a target string and a word bank\n",
    "determine whether we can construct the string from the word bank\n",
    "\n",
    "'''\n",
    "def can_construct(target, word_bank):\n",
    "    if target == '':\n",
    "        return True\n",
    "    \n",
    "    for word in word_bank:\n",
    "        if target.startswith(word):\n",
    "            suffix = target[len(word):]\n",
    "            if can_construct(suffix, word_bank):\n",
    "                return True\n",
    "            \n",
    "    return False"
   ]
  },
  {
   "cell_type": "code",
   "execution_count": 219,
   "metadata": {},
   "outputs": [
    {
     "name": "stdout",
     "output_type": "stream",
     "text": [
      "False\n",
      "True\n"
     ]
    }
   ],
   "source": [
    "print(can_construct('abcdef', ['a']))  #false\n",
    "print(can_construct('abcdef', ['abc','def'])) #true"
   ]
  },
  {
   "cell_type": "code",
   "execution_count": 225,
   "metadata": {
    "collapsed": true
   },
   "outputs": [],
   "source": [
    "def can_construct_memo(target, word_bank, memo = {}):\n",
    "    if target in memo:\n",
    "        return memo[target]\n",
    "    if target == '':\n",
    "        return True\n",
    "    for word in word_bank:\n",
    "        if target.startswith(word):\n",
    "            suffix = target[len(word):]\n",
    "            if can_construct_memo(suffix, word_bank, memo = {}):\n",
    "                memo[target] = True\n",
    "                return True\n",
    "            \n",
    "    memo[target] = False\n",
    "    return False"
   ]
  },
  {
   "cell_type": "code",
   "execution_count": 230,
   "metadata": {},
   "outputs": [
    {
     "name": "stdout",
     "output_type": "stream",
     "text": [
      "True\n",
      "False\n",
      "True\n"
     ]
    }
   ],
   "source": [
    "print(can_construct_memo('enterapotentpop', [\"a\", \"p\", \"ent\", \"enter\", \"ot\", \"o\", \"t\"], {}))\n",
    "print(can_construct_memo('abcdef', ['a'], {}))\n",
    "print(can_construct_memo('abcdef', ['abc','def'],{}))"
   ]
  },
  {
   "cell_type": "code",
   "execution_count": 231,
   "metadata": {
    "collapsed": true
   },
   "outputs": [],
   "source": [
    "'''\n",
    "count number of ways to contruct\n",
    "a given target from a given word bank\n",
    "'''\n",
    "def count_construct(target, word_bank):\n",
    "    if target == '':\n",
    "        return 1\n",
    "    total = 0\n",
    "    \n",
    "    for word in word_bank:\n",
    "        if target.startswith(word):\n",
    "            suffix = target[len(word):]\n",
    "            num_rest = count_construct(suffix, word_bank)\n",
    "            total += num_rest\n",
    "    return total"
   ]
  },
  {
   "cell_type": "code",
   "execution_count": 237,
   "metadata": {},
   "outputs": [
    {
     "name": "stdout",
     "output_type": "stream",
     "text": [
      "1\n",
      "0\n",
      "2\n"
     ]
    }
   ],
   "source": [
    "print(count_construct('abcdef', ['abc','def'])) #1\n",
    "print(count_construct('abcdef', ['a'])) #0\n",
    "print(count_construct('purple', ['purp', 'p', 'ur', 'le', 'purpl'])) #2"
   ]
  },
  {
   "cell_type": "code",
   "execution_count": 238,
   "metadata": {
    "collapsed": true
   },
   "outputs": [],
   "source": [
    "def count_construct_memo(target, word_bank, memo= {}):\n",
    "    if target in memo:\n",
    "        return memo[target]\n",
    "    if target == '':\n",
    "        return 1\n",
    "    total = 0\n",
    "    \n",
    "    for word in word_bank:\n",
    "        if target.startswith(word):\n",
    "            suffix = target[len(word):]\n",
    "            num_rest = count_construct_memo(suffix, word_bank, memo)\n",
    "            total += num_rest\n",
    "    memo[target] =  total\n",
    "    return total\n",
    "    "
   ]
  },
  {
   "cell_type": "code",
   "execution_count": 239,
   "metadata": {},
   "outputs": [
    {
     "name": "stdout",
     "output_type": "stream",
     "text": [
      "1\n",
      "0\n",
      "2\n"
     ]
    }
   ],
   "source": [
    "print(count_construct_memo('abcdef', ['abc','def'], {})) #1\n",
    "print(count_construct_memo('abcdef', ['a'], {})) #0\n",
    "print(count_construct_memo('purple', ['purp', 'p', 'ur', 'le', 'purpl'], {})) #2"
   ]
  },
  {
   "cell_type": "code",
   "execution_count": 277,
   "metadata": {
    "collapsed": true
   },
   "outputs": [],
   "source": [
    "'''\n",
    "return all the ways that can construct\n",
    "a given string from the word bank\n",
    "'''\n",
    "def all_construct(target, word_bank):\n",
    "    if target == '':\n",
    "        return [[]]\n",
    "    \n",
    "    result = []\n",
    "    \n",
    "    for word in word_bank:\n",
    "        if target.startswith(word):\n",
    "            suffix = target[len(word):]\n",
    "            suffix_all_construct = all_construct(suffix, word_bank)\n",
    "            target_ways = [[word] + s for s in suffix_all_construct]\n",
    "            result.extend(target_ways)\n",
    "    \n",
    "    return result"
   ]
  },
  {
   "cell_type": "code",
   "execution_count": 278,
   "metadata": {},
   "outputs": [
    {
     "name": "stdout",
     "output_type": "stream",
     "text": [
      "[['abc', 'def']]\n",
      "[]\n",
      "[['purp', 'le'], ['p', 'ur', 'p', 'le']]\n"
     ]
    }
   ],
   "source": [
    "print(all_construct('abcdef', ['def','abc']))\n",
    "print(all_construct('abcdef', ['a']))\n",
    "print(all_construct('purple', ['purp', 'p', 'ur', 'le', 'purpl']))"
   ]
  },
  {
   "cell_type": "code",
   "execution_count": 285,
   "metadata": {
    "collapsed": true
   },
   "outputs": [],
   "source": [
    "def all_construct_memo(target, word_bank, memo = {}):\n",
    "    if target in memo:\n",
    "        return memo[target]\n",
    "    if target == '':\n",
    "        return [[]]\n",
    "    \n",
    "    result = []\n",
    "    \n",
    "    for word in word_bank:\n",
    "        if target.startswith(word):\n",
    "            suffix = target[len(word):]\n",
    "            suffix_all_construct = all_construct_memo(suffix, word_bank, memo)\n",
    "            target_ways = [[word] + s for s in suffix_all_construct]\n",
    "            result.extend(target_ways)\n",
    "    memo[target] = result\n",
    "    return result"
   ]
  },
  {
   "cell_type": "code",
   "execution_count": 287,
   "metadata": {},
   "outputs": [
    {
     "name": "stdout",
     "output_type": "stream",
     "text": [
      "[['abc', 'def']]\n",
      "[['purp', 'le'], ['p', 'ur', 'p', 'le']]\n"
     ]
    }
   ],
   "source": [
    "print(all_construct_memo('abcdef', ['def','abc'], {}))\n",
    "print(all_construct_memo('purple', ['purp', 'p', 'ur', 'le', 'purpl']))"
   ]
  },
  {
   "cell_type": "markdown",
   "metadata": {},
   "source": [
    "# 2. Tabulation"
   ]
  },
  {
   "cell_type": "code",
   "execution_count": 362,
   "metadata": {
    "collapsed": true
   },
   "outputs": [],
   "source": [
    "def fib(n):\n",
    "    table = [0] * (n + 1)\n",
    "    table[1] = 1\n",
    "    for i in range(n+1):\n",
    "        if i + 1 < n + 1:\n",
    "            table[i+1] += table[i] \n",
    "        if i + 2 < n + 1:\n",
    "            table[i+2] += table[i]\n",
    "    return table[n]"
   ]
  },
  {
   "cell_type": "code",
   "execution_count": 363,
   "metadata": {},
   "outputs": [
    {
     "name": "stdout",
     "output_type": "stream",
     "text": [
      "8\n",
      "12586269025\n"
     ]
    }
   ],
   "source": [
    "print(fib(6))\n",
    "print(fib(50))"
   ]
  },
  {
   "cell_type": "code",
   "execution_count": 380,
   "metadata": {
    "collapsed": true
   },
   "outputs": [],
   "source": [
    "def grid_traveller(m, n):\n",
    "    row = m\n",
    "    col = n\n",
    "    table = [[0 for _ in range(col + 1)] for _ in range(row + 1)]\n",
    "    \n",
    "    table[1][1] = 1\n",
    "    for i in range(m + 1):\n",
    "        for j in range(n + 1):\n",
    "            current = table[i][j]\n",
    "            if i + 1 < m+1:\n",
    "                table[i+1][j] += current\n",
    "            if j + 1 < n+1:\n",
    "                table[i][j+1] += current\n",
    "    return table[m][n]"
   ]
  },
  {
   "cell_type": "code",
   "execution_count": 381,
   "metadata": {},
   "outputs": [
    {
     "data": {
      "text/plain": [
       "2333606220"
      ]
     },
     "execution_count": 381,
     "metadata": {},
     "output_type": "execute_result"
    }
   ],
   "source": [
    "grid_traveller(18,18)"
   ]
  },
  {
   "cell_type": "markdown",
   "metadata": {},
   "source": [
    "# tabulation recipe <br>\n",
    "\n",
    "<li>visualize the problem as a table </li>\n",
    "\n",
    "<li>size the table based on the inputs </li>\n",
    "\n",
    "<li>initialize the table with default values </li>\n",
    "<li>seed the trivial answer into the table </li>\n",
    "<li>iterate through the table </li>\n",
    "<li>fill further positions based on the current position </li>"
   ]
  },
  {
   "cell_type": "code",
   "execution_count": 395,
   "metadata": {
    "collapsed": true
   },
   "outputs": [],
   "source": [
    "def can_sum(target_sum, numbers):\n",
    "    table = [False] * (target_sum + 1)\n",
    "    table[0] = True\n",
    "    \n",
    "    for i in range(len(table)):\n",
    "        if table[i]:\n",
    "            for num in numbers:\n",
    "                if i + num < len(table):\n",
    "                    table[i + num] = True\n",
    "    return table[target_sum]"
   ]
  },
  {
   "cell_type": "code",
   "execution_count": 396,
   "metadata": {},
   "outputs": [
    {
     "name": "stdout",
     "output_type": "stream",
     "text": [
      "False\n",
      "True\n",
      "True\n",
      "False\n"
     ]
    }
   ],
   "source": [
    "print(can_sum(9, [2]))\n",
    "print(can_sum(7, [2,3]))\n",
    "print(can_sum(10, [5]))\n",
    "print(can_sum(300, [7, 14]))"
   ]
  },
  {
   "cell_type": "code",
   "execution_count": 412,
   "metadata": {
    "collapsed": true
   },
   "outputs": [],
   "source": [
    "def how_sum(target_sum , numbers):\n",
    "    table = [None] * (target_sum + 1)\n",
    "    table[0] = []\n",
    "    \n",
    "    \n",
    "    for i in range(len(table)):\n",
    "        if table[i] != None:\n",
    "            for num in numbers:\n",
    "                if i + num < len(table):\n",
    "                    new_array = table[i][:] + [num]\n",
    "                    table[i+num] = new_array\n",
    "    return table[target_sum]"
   ]
  },
  {
   "cell_type": "code",
   "execution_count": 413,
   "metadata": {},
   "outputs": [
    {
     "name": "stdout",
     "output_type": "stream",
     "text": [
      "[5, 5]\n",
      "None\n",
      "[3, 2, 2]\n",
      "None\n"
     ]
    }
   ],
   "source": [
    "print(how_sum(10, [5]))\n",
    "print(how_sum(9, [2]))\n",
    "print(how_sum(7, [2,3]))\n",
    "print(how_sum(300, [7, 14]))"
   ]
  },
  {
   "cell_type": "code",
   "execution_count": 423,
   "metadata": {
    "collapsed": true
   },
   "outputs": [],
   "source": [
    "def best_sum(target_sum, numbers):\n",
    "    table = [None] * (target_sum + 1)\n",
    "    table[0] = []\n",
    "    \n",
    "    for i in range(len(table)):\n",
    "        if table[i] != None:\n",
    "            for num in numbers:\n",
    "                combo = table[i][:] + [num]\n",
    "                if i + num < len(table):\n",
    "                    if table[i+num] == None or len(table[i+num]) > len(combo):\n",
    "                        table[i+num] = combo\n",
    "    return table[target_sum]"
   ]
  },
  {
   "cell_type": "code",
   "execution_count": 428,
   "metadata": {},
   "outputs": [
    {
     "name": "stdout",
     "output_type": "stream",
     "text": [
      "[5, 5]\n",
      "[7]\n",
      "[4, 4]\n",
      "[25, 25, 25, 25]\n"
     ]
    }
   ],
   "source": [
    "print(best_sum(10, [5]))\n",
    "print(best_sum(7, [5,3,4,7]))\n",
    "print(best_sum(8, [1,4,5]))\n",
    "print(best_sum(100, [1,2,5,25]))"
   ]
  },
  {
   "cell_type": "code",
   "execution_count": 15,
   "metadata": {
    "collapsed": true
   },
   "outputs": [],
   "source": [
    "def can_construct(target, word_bank):\n",
    "    table = [False]* (len(target) + 1)\n",
    "    table[0] = True\n",
    "    \n",
    "    for i in range(len(table)):\n",
    "        if table[i]:\n",
    "            for word in word_bank:\n",
    "                if i + len(word) < len(table):\n",
    "                    if target[i:i+len(word)] == word:\n",
    "                        table[i+len(word)] = True\n",
    "    \n",
    "    return table[-1]"
   ]
  },
  {
   "cell_type": "code",
   "execution_count": 20,
   "metadata": {},
   "outputs": [
    {
     "name": "stdout",
     "output_type": "stream",
     "text": [
      "True\n",
      "True\n",
      "False\n"
     ]
    }
   ],
   "source": [
    "print(can_construct('abcdef', ['ab', 'abc', 'cd', 'def', 'abcd']))  #True\n",
    "print(can_construct('enterapotentpop', [\"a\", \"p\", \"ent\", \"enter\", \"ot\", \"o\", \"t\"])) # True\n",
    "print(can_construct('abc', ['a']))"
   ]
  },
  {
   "cell_type": "code",
   "execution_count": 39,
   "metadata": {},
   "outputs": [],
   "source": [
    "def count_construct(target, word_bank):\n",
    "    table = [0] * (len(target) + 1)\n",
    "    table[0] = 1\n",
    "    \n",
    "    for i in range(len(table)):\n",
    "        for word in word_bank:\n",
    "            if i + len(word) <  len(table):\n",
    "                if target[i:i+len(word)] == word:\n",
    "                    table[i + len(word)] += table[i]\n",
    "    return table"
   ]
  },
  {
   "cell_type": "code",
   "execution_count": 82,
   "metadata": {},
   "outputs": [
    {
     "name": "stdout",
     "output_type": "stream",
     "text": [
      "[1, 1, 0, 1, 2, 1, 2]\n",
      "[1, 0, 0, 1, 0, 1, 1, 1, 1, 2, 0, 0, 2, 2, 2, 4]\n"
     ]
    }
   ],
   "source": [
    "print(count_construct('purple', ['purp', 'p', 'ur', 'le', 'purpl'])) #2\n",
    "print(count_construct('enterapotentpot', [\"a\", \"p\", \"ent\", \"enter\", \"ot\", \"o\", \"t\"])) #4"
   ]
  },
  {
   "cell_type": "markdown",
   "metadata": {},
   "source": [
    "# closing thoughts:\n",
    "<li> notice any overlapping subproblems </li>\n",
    "<li> decide what is the trivially smallest input</li>\n",
    "<li> think recursively to use memoization</li>\n",
    "<li> think iteratively to use tabulation </li>\n",
    "<li> draw a strategy first</li>"
   ]
  },
  {
   "cell_type": "code",
   "execution_count": null,
   "metadata": {},
   "outputs": [],
   "source": []
  }
 ],
 "metadata": {
  "kernelspec": {
   "display_name": "Python 3",
   "language": "python",
   "name": "python3"
  },
  "language_info": {
   "codemirror_mode": {
    "name": "ipython",
    "version": 3
   },
   "file_extension": ".py",
   "mimetype": "text/x-python",
   "name": "python",
   "nbconvert_exporter": "python",
   "pygments_lexer": "ipython3",
   "version": "3.6.1"
  }
 },
 "nbformat": 4,
 "nbformat_minor": 2
}
